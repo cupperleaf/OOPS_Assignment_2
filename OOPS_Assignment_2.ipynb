{
 "cells": [
  {
   "cell_type": "markdown",
   "id": "c0c64d20-8e62-4925-8ab6-8b060e8d25ef",
   "metadata": {},
   "source": [
    "Q1. What is Abstraction in OOps? Explain with an example."
   ]
  },
  {
   "cell_type": "code",
   "execution_count": 1,
   "id": "9c1076cd-bdb2-4088-a3eb-9109f92c0254",
   "metadata": {},
   "outputs": [],
   "source": [
    "# In Python, an abstraction is used to hide the irrelevant data/class in order to reduce the complexity. It also enhances the application efficiency.\n",
    "import abc\n",
    "class car:\n",
    "    @abc.abstractmethod\n",
    "    def accelerate(self):\n",
    "        pass\n",
    "    \n",
    "    def brake(self):\n",
    "        pass\n",
    "\n",
    "class car_details(car):\n",
    "    def accelerate(self):\n",
    "        return \"speed up the car\"\n",
    "    def brake(self):\n",
    "        return \"stop the car\""
   ]
  },
  {
   "cell_type": "code",
   "execution_count": 2,
   "id": "f941417c-0411-4702-a0d7-c3f177e7482f",
   "metadata": {},
   "outputs": [],
   "source": [
    "data = car_details()"
   ]
  },
  {
   "cell_type": "code",
   "execution_count": 5,
   "id": "a93083c9-dd6d-42ba-b3f2-9de85a55d499",
   "metadata": {},
   "outputs": [
    {
     "data": {
      "text/plain": [
       "'speed up the car'"
      ]
     },
     "execution_count": 5,
     "metadata": {},
     "output_type": "execute_result"
    }
   ],
   "source": [
    "data.accelerate()"
   ]
  },
  {
   "cell_type": "code",
   "execution_count": 6,
   "id": "59741dc8-e6fa-4fc7-9dbc-cecd093f6750",
   "metadata": {},
   "outputs": [
    {
     "data": {
      "text/plain": [
       "'stop the car'"
      ]
     },
     "execution_count": 6,
     "metadata": {},
     "output_type": "execute_result"
    }
   ],
   "source": [
    "data.brake()"
   ]
  },
  {
   "cell_type": "markdown",
   "id": "2f26dfd0-a9b7-4624-804a-4a4f18fd2adc",
   "metadata": {},
   "source": [
    "Q2. Differentiate between Abstraction and Encapsulation. Explain with an example."
   ]
  },
  {
   "cell_type": "code",
   "execution_count": 7,
   "id": "69c423d2-c0c2-4cfd-8a31-b49737220035",
   "metadata": {},
   "outputs": [],
   "source": [
    "# Abstraction is a way of representing some specific data. \n",
    "# Encapsulation is a way of hiding the complexity of something and exposing only the parts you wish to expose.\n",
    "import abc\n",
    "class car:\n",
    "    @abc.abstractmethod\n",
    "    def accelerate(self):\n",
    "        pass\n",
    "    \n",
    "    def brake(self):\n",
    "        pass\n",
    "\n",
    "class car_details(car):\n",
    "    def accelerate(self):\n",
    "        return \"speed up the car\"\n",
    "    def brake(self):\n",
    "        return \"stop the car\""
   ]
  },
  {
   "cell_type": "code",
   "execution_count": 8,
   "id": "be4eee1c-4edb-4d32-b937-efd1464d4e2a",
   "metadata": {},
   "outputs": [],
   "source": [
    "class car:\n",
    "    def __init__(self,yr,make,model,speed):\n",
    "        self.__yr = yr       # __yr is for hide \n",
    "        self.__make = make\n",
    "        self.__model = model\n",
    "        self.__speed = speed"
   ]
  },
  {
   "cell_type": "code",
   "execution_count": null,
   "id": "480c0ea7-edb0-4604-831e-1bd7e04c304c",
   "metadata": {},
   "outputs": [],
   "source": []
  },
  {
   "cell_type": "markdown",
   "id": "7f84ae20-514f-431c-a761-761cc7d76ef5",
   "metadata": {},
   "source": [
    "Q3. What is abc module in python? Why is it used?"
   ]
  },
  {
   "cell_type": "markdown",
   "id": "40174fb0-a745-459a-9639-0acae40d8808",
   "metadata": {},
   "source": [
    "We can't create abstract classes directly in Python, so Python provides a module called abc that provides the infrastructure for defining the base of Abstract Base Classes(ABC)."
   ]
  },
  {
   "cell_type": "code",
   "execution_count": null,
   "id": "fa58182d-7d6c-4499-8436-02179ce8d15d",
   "metadata": {},
   "outputs": [],
   "source": []
  },
  {
   "cell_type": "markdown",
   "id": "77c48e52-05b3-40f1-b6ad-39aae55dce66",
   "metadata": {},
   "source": [
    "Q4. How can we achieve data abstraction?"
   ]
  },
  {
   "cell_type": "markdown",
   "id": "6ca76c43-4658-42a1-837b-b7ab532fb240",
   "metadata": {},
   "source": [
    "Data Abstraction in Python can be achieved through creating abstract classes and inheriting them"
   ]
  },
  {
   "cell_type": "code",
   "execution_count": null,
   "id": "65896432-a272-43d9-8e22-9e07c72d3d67",
   "metadata": {},
   "outputs": [],
   "source": []
  },
  {
   "cell_type": "markdown",
   "id": "3aadf49a-9b9f-4de0-babe-3059df25f737",
   "metadata": {},
   "source": [
    "Q5. Can we create an instance of an abstract class? Explain your answer."
   ]
  },
  {
   "cell_type": "code",
   "execution_count": null,
   "id": "6c37b8b3-fd9a-4a96-a620-290339cd9005",
   "metadata": {},
   "outputs": [],
   "source": [
    "# No we cannot create instance of an abstract class. An instance of an abstract class can only be created through inheritance.\n"
   ]
  },
  {
   "cell_type": "code",
   "execution_count": null,
   "id": "3f14e2be-0ae5-4e66-980f-33e21e5dd708",
   "metadata": {},
   "outputs": [],
   "source": []
  }
 ],
 "metadata": {
  "kernelspec": {
   "display_name": "Python 3 (ipykernel)",
   "language": "python",
   "name": "python3"
  },
  "language_info": {
   "codemirror_mode": {
    "name": "ipython",
    "version": 3
   },
   "file_extension": ".py",
   "mimetype": "text/x-python",
   "name": "python",
   "nbconvert_exporter": "python",
   "pygments_lexer": "ipython3",
   "version": "3.10.8"
  }
 },
 "nbformat": 4,
 "nbformat_minor": 5
}
